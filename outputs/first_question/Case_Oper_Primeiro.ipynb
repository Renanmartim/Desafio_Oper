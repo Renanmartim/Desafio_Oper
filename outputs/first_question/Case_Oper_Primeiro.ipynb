{
  "nbformat": 4,
  "nbformat_minor": 0,
  "metadata": {
    "colab": {
      "provenance": [],
      "gpuType": "T4"
    },
    "kernelspec": {
      "name": "python3",
      "display_name": "Python 3"
    },
    "language_info": {
      "name": "python"
    },
    "accelerator": "GPU"
  },
  "cells": [
    {
      "cell_type": "code",
      "source": [
        "%pip install pyspark"
      ],
      "metadata": {
        "colab": {
          "base_uri": "https://localhost:8080/"
        },
        "id": "8ESLVz0KKpOI",
        "outputId": "eb9d127e-ad0d-4dc0-b6b4-ef8977b49551"
      },
      "execution_count": 1,
      "outputs": [
        {
          "output_type": "stream",
          "name": "stdout",
          "text": [
            "Collecting pyspark\n",
            "  Downloading pyspark-3.5.1.tar.gz (317.0 MB)\n",
            "\u001b[2K     \u001b[90m━━━━━━━━━━━━━━━━━━━━━━━━━━━━━━━━━━━━━━━━\u001b[0m \u001b[32m317.0/317.0 MB\u001b[0m \u001b[31m2.8 MB/s\u001b[0m eta \u001b[36m0:00:00\u001b[0m\n",
            "\u001b[?25h  Preparing metadata (setup.py) ... \u001b[?25l\u001b[?25hdone\n",
            "Requirement already satisfied: py4j==0.10.9.7 in /usr/local/lib/python3.10/dist-packages (from pyspark) (0.10.9.7)\n",
            "Building wheels for collected packages: pyspark\n",
            "  Building wheel for pyspark (setup.py) ... \u001b[?25l\u001b[?25hdone\n",
            "  Created wheel for pyspark: filename=pyspark-3.5.1-py2.py3-none-any.whl size=317488491 sha256=384089538033564cc08e305d497f626049e6b7f91bd5360b73a84693bbf5115b\n",
            "  Stored in directory: /root/.cache/pip/wheels/80/1d/60/2c256ed38dddce2fdd93be545214a63e02fbd8d74fb0b7f3a6\n",
            "Successfully built pyspark\n",
            "Installing collected packages: pyspark\n",
            "Successfully installed pyspark-3.5.1\n"
          ]
        }
      ]
    },
    {
      "cell_type": "code",
      "source": [
        "from pyspark.sql import SparkSession\n",
        "from pyspark.sql.functions import avg\n",
        "from pyspark.sql.functions import current_date, datediff, floor, col, expr, when\n",
        "from pyspark.sql.functions import col, current_date, datediff, to_date\n",
        "from pyspark.sql.types import DateType\n",
        "\n",
        "# Cria a sessão Spark\n",
        "spark = SparkSession.builder \\\n",
        "    .appName(\"CSV\") \\\n",
        "    .getOrCreate()"
      ],
      "metadata": {
        "id": "6-Qxt1S7LS8H"
      },
      "execution_count": 2,
      "outputs": []
    },
    {
      "cell_type": "code",
      "source": [
        "# Redefinir nomes de colunas e atribuir o tipo devido a elas\n",
        "\n",
        "df = spark.read.csv('/content/base_copa2018.csv', header=True, inferSchema=True)\n",
        "\n",
        "df = df.withColumn('Birth Date', to_date(col('Birth Date'), 'dd.MM.yyyy'))\n",
        "\n",
        "df = df.withColumn('Height', col('Height').cast('int'))\n",
        "\n",
        "df = df.withColumnRenamed('Pos.', 'Position')\n",
        "\n",
        "df = df.withColumnRenamed('#', 'Number')\n",
        "\n",
        "df = df.withColumn('Weight', col('Weight').cast('int'))\n",
        "\n",
        "df = df.withColumn('Number', col('Number').cast('int'))\n",
        "\n",
        "df.show()\n"
      ],
      "metadata": {
        "colab": {
          "base_uri": "https://localhost:8080/"
        },
        "id": "pHihhNNILYpe",
        "outputId": "25bc7d0f-5a73-43f7-8f52-637e2d700b09"
      },
      "execution_count": 3,
      "outputs": [
        {
          "output_type": "stream",
          "name": "stdout",
          "text": [
            "+---------+------+--------+------------------+----------+----------+--------------------+------+------+\n",
            "|     Team|Number|Position| FIFA Popular Name|Birth Date|Shirt Name|                Club|Height|Weight|\n",
            "+---------+------+--------+------------------+----------+----------+--------------------+------+------+\n",
            "|Argentina|     3|      DF|TAGLIAFICO Nicolas|1992-08-31|TAGLIAFICO|      AFC Ajax (NED)|   169|    65|\n",
            "|Argentina|    22|      MF|    PAVON Cristian|1996-01-21|     PAVÓN|CA Boca Juniors (...|   169|    65|\n",
            "|Argentina|    15|      MF|    LANZINI Manuel|1993-02-15|   LANZINI|West Ham United F...|   167|    66|\n",
            "|Argentina|    18|      DF|    SALVIO Eduardo|1990-07-13|    SALVIO|    SL Benfica (POR)|   167|    69|\n",
            "|Argentina|    10|      FW|      MESSI Lionel|1987-06-24|     MESSI|  FC Barcelona (ESP)|   170|    72|\n",
            "|Argentina|     4|      DF|  ANSALDI Cristian|1986-09-20|   ANSALDI|     Torino FC (ITA)|   181|    73|\n",
            "|Argentina|     5|      MF|      BIGLIA Lucas|1986-01-30|    BIGLIA|      AC Milan (ITA)|   175|    73|\n",
            "|Argentina|     7|      MF|       BANEGA Ever|1988-06-29|    BANEGA|    Sevilla FC (ESP)|   175|    73|\n",
            "|Argentina|    14|      DF| MASCHERANO Javier|1984-06-08|MASCHERANO|Hebei China Fortu...|   174|    73|\n",
            "|Argentina|    21|      FW|      DYBALA Paulo|1993-11-15|    DYBALA|   Juventus FC (ITA)|   177|    73|\n",
            "|Argentina|    19|      FW|     AGUERO Sergio|1988-06-02|    AGÜERO|Manchester City F...|   172|    74|\n",
            "|Argentina|     9|      FW|   HIGUAIN Gonzalo|1987-12-10|   HIGUAÍN|   Juventus FC (ITA)|   184|    75|\n",
            "|Argentina|    11|      MF|    DI MARIA Angel|1988-02-14|  DI MARÍA|Paris Saint-Germa...|   178|    75|\n",
            "|Argentina|    20|      MF|  LO CELSO Giovani|1996-04-09|  LO CELSO|Paris Saint-Germa...|   177|    75|\n",
            "|Argentina|    13|      MF|  MEZA Maximiliano|1992-12-15|      MEZA|CA Independiente ...|   180|    76|\n",
            "|Argentina|     8|      DF|      ACUNA Marcos|1991-10-28|     ACUÑA|   Sporting CP (POR)|   172|    77|\n",
            "|Argentina|    23|      GK|CABALLERO Wilfredo|1981-09-28| CABALLERO|    Chelsea FC (ENG)|   186|    80|\n",
            "|Argentina|     2|      DF|   MERCADO Gabriel|1987-03-18|   MERCADO|    Sevilla FC (ESP)|   181|    81|\n",
            "|Argentina|    17|      DF|  OTAMENDI Nicolas|1988-02-12|  OTAMENDI|Manchester City F...|   181|    81|\n",
            "|Argentina|    16|      DF|       ROJO Marcos|1990-03-20|      ROJO|Manchester United...|   189|    82|\n",
            "+---------+------+--------+------------------+----------+----------+--------------------+------+------+\n",
            "only showing top 20 rows\n",
            "\n"
          ]
        }
      ]
    },
    {
      "cell_type": "markdown",
      "source": [
        "# i. Qual é a média de altura de cada seleção? Qual é a seleção mais alta e a mais baixa?"
      ],
      "metadata": {
        "id": "qas-bNAhNWrC"
      }
    },
    {
      "cell_type": "code",
      "source": [
        "# Calcula a altura média de cada equipe\n",
        "altura_media_df = df.groupBy(\"Team\").agg(avg(df[\"Height\"].cast(\"float\")).alias(\"AlturaMedia\"))\n",
        "\n",
        "# Encontra a equipe com a maior altura média\n",
        "maior_altura_media = altura_media_df.orderBy(\"AlturaMedia\", ascending=False).first()\n",
        "\n",
        "# Encontra a equipe com a menor altura média\n",
        "menor_altura_media = altura_media_df.orderBy(\"AlturaMedia\").first()\n",
        "\n",
        "# Exibe a altura média de cada equipe ordenada de forma decrescente\n",
        "print(\"Altura média de cada equipe:\")\n",
        "altura_media_df = altura_media_df.orderBy(\"AlturaMedia\", ascending=False)\n",
        "altura_media_df.show(32)\n",
        "\n",
        "# Exibe a equipe com a maior altura média\n",
        "print(\"\\nEquipe com maior altura média:\")\n",
        "print(maior_altura_media[\"Team\"], \":\", f\"{maior_altura_media['AlturaMedia']:.2f}\")\n",
        "\n",
        "# Exibe a equipe com a menor altura média\n",
        "print(\"\\nEquipe com menor altura média:\")\n",
        "print(menor_altura_media[\"Team\"], \":\", f\"{menor_altura_media['AlturaMedia']:.2f}\")"
      ],
      "metadata": {
        "colab": {
          "base_uri": "https://localhost:8080/"
        },
        "id": "wWyIkaMKMZS-",
        "outputId": "c6eb60ac-c9d4-43d2-e5ea-9547a240d03b"
      },
      "execution_count": 5,
      "outputs": [
        {
          "output_type": "stream",
          "name": "stdout",
          "text": [
            "Altura média de cada equipe:\n",
            "+--------------+------------------+\n",
            "|          Team|       AlturaMedia|\n",
            "+--------------+------------------+\n",
            "|        Serbia|186.69565217391303|\n",
            "|       Denmark| 186.6086956521739|\n",
            "|       Germany| 185.7826086956522|\n",
            "|        Sweden| 185.7391304347826|\n",
            "|       Iceland|185.52173913043478|\n",
            "|       Belgium|185.34782608695653|\n",
            "|       Croatia| 185.2608695652174|\n",
            "|       Nigeria|184.52173913043478|\n",
            "|       IR Iran|184.47826086956522|\n",
            "|        Russia| 184.3913043478261|\n",
            "|       Senegal|183.65217391304347|\n",
            "|        France|183.30434782608697|\n",
            "|        Poland|183.17391304347825|\n",
            "|       Tunisia|183.08695652173913|\n",
            "|   Switzerland|182.91304347826087|\n",
            "|       England| 182.7391304347826|\n",
            "|       Morocco|182.69565217391303|\n",
            "|        Panama|182.17391304347825|\n",
            "|Korea Republic| 181.8695652173913|\n",
            "|       Uruguay|181.04347826086956|\n",
            "|         Egypt|             181.0|\n",
            "|     Australia| 180.8695652173913|\n",
            "|        Brazil| 180.7826086956522|\n",
            "|      Colombia| 180.7826086956522|\n",
            "|    Costa Rica|180.69565217391303|\n",
            "|         Spain|179.91304347826087|\n",
            "|        Mexico| 179.7826086956522|\n",
            "|      Portugal| 179.7391304347826|\n",
            "|         Japan| 178.7826086956522|\n",
            "|     Argentina|178.43478260869566|\n",
            "|  Saudi Arabia|177.65217391304347|\n",
            "|          Peru| 177.6086956521739|\n",
            "+--------------+------------------+\n",
            "\n",
            "\n",
            "Equipe com maior altura média:\n",
            "Serbia : 186.70\n",
            "\n",
            "Equipe com menor altura média:\n",
            "Peru : 177.61\n"
          ]
        }
      ]
    },
    {
      "cell_type": "markdown",
      "source": [
        "# ii. Qual é a média de peso de cada seleção? Qual é a seleção mais pesada e a mais leve?"
      ],
      "metadata": {
        "id": "RUNhIoCbOXaw"
      }
    },
    {
      "cell_type": "code",
      "source": [
        "# Calcula o peso médio de cada equipe\n",
        "peso_medio_df = df.groupBy(\"Team\").agg(avg(df[\"Weight\"].cast(\"float\")).alias(\"PesoMedio\"))\n",
        "\n",
        "# Encontra a equipe com o peso médio mais alto\n",
        "selecao_mais_pesada = peso_medio_df.orderBy(\"PesoMedio\", ascending=False).first()\n",
        "\n",
        "# Encontra a equipe com o peso médio mais baixo\n",
        "selecao_mais_leve = peso_medio_df.orderBy(\"PesoMedio\").first()\n",
        "\n",
        "# Exibe o peso médio de cada equipe ordenado de forma decrescente\n",
        "print(\"Peso médio de cada seleção:\")\n",
        "peso_medio_df = peso_medio_df.orderBy(\"PesoMedio\", ascending=False)\n",
        "peso_medio_df.show(32)\n",
        "\n",
        "# Exibe a equipe com o peso médio mais alto\n",
        "print(\"\\nSeleção com o peso médio mais alto:\")\n",
        "print(selecao_mais_pesada[\"Team\"], \":\", f\"{selecao_mais_pesada['PesoMedio']:.2f}\")\n",
        "\n",
        "# Exibe a equipe com o peso médio mais baixo\n",
        "print(\"\\nSeleção com o peso médio mais baixo:\")\n",
        "print(selecao_mais_leve[\"Team\"], \":\", f\"{selecao_mais_leve['PesoMedio']:.2f}\")\n"
      ],
      "metadata": {
        "colab": {
          "base_uri": "https://localhost:8080/"
        },
        "id": "a9T2Z2ohNcrC",
        "outputId": "fc0574d8-c26e-4f00-f533-c965fb2785f7"
      },
      "execution_count": 6,
      "outputs": [
        {
          "output_type": "stream",
          "name": "stdout",
          "text": [
            "Peso médio de cada seleção:\n",
            "+--------------+-----------------+\n",
            "|          Team|        PesoMedio|\n",
            "+--------------+-----------------+\n",
            "|       Denmark| 82.6086956521739|\n",
            "|       Iceland|80.73913043478261|\n",
            "|        Serbia|80.52173913043478|\n",
            "|       Nigeria|80.47826086956522|\n",
            "|       Germany|80.04347826086956|\n",
            "|        France|             80.0|\n",
            "|        Panama|             80.0|\n",
            "|   Switzerland|79.91304347826087|\n",
            "|       Belgium|79.56521739130434|\n",
            "|       Croatia|79.30434782608695|\n",
            "|        Sweden|78.82608695652173|\n",
            "|       England|78.82608695652173|\n",
            "|         Egypt|78.43478260869566|\n",
            "|       IR Iran| 78.1304347826087|\n",
            "|     Australia|77.73913043478261|\n",
            "|        Russia| 77.6086956521739|\n",
            "|       Senegal|76.82608695652173|\n",
            "|        Brazil|76.56521739130434|\n",
            "|        Poland|76.47826086956522|\n",
            "|      Colombia|76.17391304347827|\n",
            "|          Peru| 75.8695652173913|\n",
            "|     Argentina|75.56521739130434|\n",
            "|       Tunisia|             75.0|\n",
            "|         Spain|74.73913043478261|\n",
            "|       Morocco|74.65217391304348|\n",
            "|       Uruguay| 74.6086956521739|\n",
            "|Korea Republic|74.43478260869566|\n",
            "|    Costa Rica| 74.1304347826087|\n",
            "|        Mexico|74.08695652173913|\n",
            "|      Portugal| 73.6086956521739|\n",
            "|  Saudi Arabia|73.04347826086956|\n",
            "|         Japan|71.52173913043478|\n",
            "+--------------+-----------------+\n",
            "\n",
            "\n",
            "Seleção com o peso médio mais alto:\n",
            "Denmark : 82.61\n",
            "\n",
            "Seleção com o peso médio mais baixo:\n",
            "Japan : 71.52\n"
          ]
        }
      ]
    },
    {
      "cell_type": "markdown",
      "source": [
        "# iii. Qual é a media de idade de clube?"
      ],
      "metadata": {
        "id": "X5kO7FyaRsHM"
      }
    },
    {
      "cell_type": "code",
      "source": [
        "# Calcula a idade atual de cada jogador e adiciona como uma nova coluna 'idade_atual' no DataFrame df\n",
        "df = df.withColumn('idade_atual', (datediff(current_date(), 'Birth Date') / 365).cast('int'))\n",
        "\n",
        "# Calcula a média de idade para cada equipe no DataFrame df e armazena o resultado em media_idade_df\n",
        "media_idade_df = df.groupBy(\"Club\").agg(avg(df[\"idade_atual\"]).alias(\"MediaIdade\"))\n",
        "\n",
        "# Exibe a média de idade por clube ordenada de forma decrescente pela coluna \"MediaIdade\"\n",
        "print(\"Média de idade por clube:\")\n",
        "media_idade_df_show = media_idade_df.orderBy(\"MediaIdade\", ascending=False)\n",
        "media_idade_df_show.show(310)"
      ],
      "metadata": {
        "colab": {
          "base_uri": "https://localhost:8080/"
        },
        "id": "E1DN21oVOjCy",
        "outputId": "8245dd07-666e-49e1-d0b5-1fe8d7830949"
      },
      "execution_count": 7,
      "outputs": [
        {
          "output_type": "stream",
          "name": "stdout",
          "text": [
            "Média de idade por clube:\n",
            "+--------------------+------------------+\n",
            "|                Club|        MediaIdade|\n",
            "+--------------------+------------------+\n",
            "| Al Taawoun FC (KSA)|              51.0|\n",
            "|      CF Atlas (MEX)|              45.0|\n",
            "| CSD Municipal (GUA)|              43.0|\n",
            "|     Cruz Azul (MEX)|              43.0|\n",
            "|    Goztepe SK (TUR)|              42.0|\n",
            "|    Rangers FC (SCO)|              42.0|\n",
            "|    Sport Boys (PER)|              42.0|\n",
            "|Dinamo Bucharest ...|              42.0|\n",
            "|CR Vasco da Gama ...|              41.0|\n",
            "|   Karabukspor (TUR)|              41.0|\n",
            "|       FC Metz (FRA)|              41.0|\n",
            "|Deportivo Toluca ...|              41.0|\n",
            "|   Aberdeen FC (SCO)|              41.0|\n",
            "|   Millwall FC (ENG)|              40.0|\n",
            "|Atlético Bucarama...|              40.0|\n",
            "|Club Brugge KV (BEL)|              40.0|\n",
            "|Atletico Junior (...|              40.0|\n",
            "|    AEK Athens (GRE)|              40.0|\n",
            "|Hebei China Fortu...|              40.0|\n",
            "|Rionegro Águilas ...|              40.0|\n",
            "|   FK Partizan (SRB)|              40.0|\n",
            "|    Randers FC (DEN)|              40.0|\n",
            "|      KRC Genk (BEL)|              39.0|\n",
            "|   Al Batin FC (KSA)|              39.0|\n",
            "|Valur Reykjavik (...|              39.0|\n",
            "| Lechia Gdansk (POL)|              39.0|\n",
            "|CD Once Caldas (COL)|              39.0|\n",
            "|     Horoya AC (GUI)|              39.0|\n",
            "|Houston Dynamo (USA)|              39.0|\n",
            "|     Al Jazira (UAE)|              39.0|\n",
            "|   Al Fateh FC (KSA)|              39.0|\n",
            "|   Besiktas JK (TUR)|             38.75|\n",
            "|   Grêmio FBPA (BRA)|              38.0|\n",
            "|Istanbul Başakşeh...|              38.0|\n",
            "|   Gamba Osaka (JPN)|              38.0|\n",
            "| Fenerbahce SK (TUR)|              38.0|\n",
            "|Universidad Técni...|              38.0|\n",
            "|  Chorrillo FC (PAN)|              38.0|\n",
            "|    Al Raed SC (KSA)|              38.0|\n",
            "|Birmingham City F...|              38.0|\n",
            "|Chippa United FC ...|              38.0|\n",
            "|Deportivo Sapriss...|              38.0|\n",
            "|    Kuopion PS (FIN)|              38.0|\n",
            "|Seattle Sounders ...|              37.5|\n",
            "|Udinese Calcio (ITA)|37.333333333333336|\n",
            "|Nottingham Forest...|              37.0|\n",
            "|  FC St. Pauli (GER)|              37.0|\n",
            "|    CF Pachuca (MEX)|              37.0|\n",
            "|   KSC Lokeren (BEL)|              37.0|\n",
            "|Ulsan Hyundai FC ...|              37.0|\n",
            "|Yeni Malatyaspor ...|              37.0|\n",
            "|     Al Ain FC (UAE)|              37.0|\n",
            "|Antalyaspor AS (TUR)|              37.0|\n",
            "|AC Deportivo Cali...|              37.0|\n",
            "|  Tianjin Teda (CHN)|              37.0|\n",
            "|Aston Villa FC (ENG)|              37.0|\n",
            "|  RCD Espanyol (ESP)|              36.5|\n",
            "|  CF Monterrey (MEX)|              36.5|\n",
            "|  CS Herediano (CRC)|              36.5|\n",
            "|   Tigres UANL (MEX)|36.333333333333336|\n",
            "|Galatasaray SK (TUR)|36.333333333333336|\n",
            "|Swansea City AFC ...|             36.25|\n",
            "|  Legia Warsaw (POL)|              36.0|\n",
            "|Vancouver Whiteca...|              36.0|\n",
            "| SV Sandhausen (GER)|              36.0|\n",
            "|   Jeju United (KOR)|              36.0|\n",
            "|LD Alajuelense (CRC)|              36.0|\n",
            "|SC Corinthians (BRA)|              36.0|\n",
            "| SC Heerenveen (NED)|              36.0|\n",
            "|Standard Liège (BEL)|              36.0|\n",
            "| Cercle Brugge (BEL)|              36.0|\n",
            "|Club Universidad ...|              36.0|\n",
            "| Beijing Guoan (CHN)|              36.0|\n",
            "|Hapoel Be'er Shev...|              36.0|\n",
            "|      FC Seoul (KOR)|              36.0|\n",
            "|    Al Ahly SC (EGY)|35.857142857142854|\n",
            "|    Al Ahli SC (KSA)| 35.77777777777778|\n",
            "|   Al Nassr FC (KSA)|35.666666666666664|\n",
            "|Olympique Marseil...|              35.5|\n",
            "|    CD Leganés (ESP)|              35.5|\n",
            "|Universitario Lim...|              35.5|\n",
            "| Villarreal CF (ESP)|              35.5|\n",
            "|   CR Flamengo (BRA)|              35.5|\n",
            "|   Toulouse FC (FRA)|35.333333333333336|\n",
            "|       AS Roma (ITA)|35.333333333333336|\n",
            "|FC Zenit St. Pete...|35.333333333333336|\n",
            "|  Hull City FC (ENG)|35.333333333333336|\n",
            "|    Sevilla FC (ESP)|35.333333333333336|\n",
            "|Zob Ahan Isfahan ...|              35.0|\n",
            "| VfL Wolfsburg (GER)|              35.0|\n",
            "|   FC Augsburg (GER)|              35.0|\n",
            "|    VfL Bochum (GER)|              35.0|\n",
            "|Dalian Yifang FC ...|              35.0|\n",
            "|    CD Olimpia (HON)|              35.0|\n",
            "|Valenciennes FC (...|              35.0|\n",
            "|   Seongnam FC (KOR)|              35.0|\n",
            "|FC Arsenal Tula (...|              35.0|\n",
            "|Changchun Yatai (...|              35.0|\n",
            "|    Enyimba FC (NGA)|              35.0|\n",
            "|   Juventus FC (ITA)|              35.0|\n",
            "|   CD Numancia (ESP)|              35.0|\n",
            "|Tianjin Quanjian ...|              35.0|\n",
            "| CD Huachipato (CHI)|              35.0|\n",
            "|FC Dynamo Kyiv (UKR)|              35.0|\n",
            "|  FC Krasnodar (RUS)|             34.75|\n",
            "|   CSKA Moscow (RUS)|34.666666666666664|\n",
            "|Jeonbuk Hyundai (...|34.666666666666664|\n",
            "|    Real Betis (ESP)|              34.5|\n",
            "|     LA Galaxy (USA)|              34.5|\n",
            "|    CA Penarol (URU)|              34.5|\n",
            "|  Cerezo Osaka (JPN)|              34.5|\n",
            "|  FC Kobenhavn (DEN)|34.333333333333336|\n",
            "|FC Rubin Kazan (RUS)|34.333333333333336|\n",
            "|  FC Barcelona (ESP)|34.285714285714285|\n",
            "|FC Internazionale...|             34.25|\n",
            "|FC Lokomotiv Mosc...|34.166666666666664|\n",
            "|    SSC Napoli (ITA)|              34.0|\n",
            "|Wolverhampton Wan...|              34.0|\n",
            "|  Brentford FC (ENG)|              34.0|\n",
            "|       PAOK FC (GRE)|              34.0|\n",
            "|Sunderland AFC (ENG)|              34.0|\n",
            "|Olympiacos Piraeu...|              34.0|\n",
            "|West Bromwich Alb...|              34.0|\n",
            "|   KV Oostende (BEL)|              34.0|\n",
            "|Orlando City SC (...|              34.0|\n",
            "|     Adanaspor (TUR)|              34.0|\n",
            "|Guangzhou Evergra...|              34.0|\n",
            "|CA River Plate (ARG)|              34.0|\n",
            "|  Al Hilal SFC (KSA)|              34.0|\n",
            "|Huddersfield Town...|              34.0|\n",
            "|Étoile du Sahel (...|              34.0|\n",
            "|Suwon Samsung Blu...|              34.0|\n",
            "|  SPAL Ferrara (ITA)|              34.0|\n",
            "|      AC Milan (ITA)|              34.0|\n",
            "|      SD Eibar (ESP)|              34.0|\n",
            "|   EA Guingamp (FRA)|              34.0|\n",
            "|    1. FC Köln (GER)|              34.0|\n",
            "|Feyenoord Rotterd...|              33.8|\n",
            "|     Celtic FC (SCO)|             33.75|\n",
            "|Leicester City FC...|             33.75|\n",
            "|    Chelsea FC (ENG)|33.666666666666664|\n",
            "|Los Angeles FC (USA)|33.666666666666664|\n",
            "|     FC Rostov (RUS)|33.666666666666664|\n",
            "|     Girona FC (ESP)|33.666666666666664|\n",
            "|  FSV Mainz 05 (GER)|              33.5|\n",
            "|Esteghlal Tehran ...|              33.5|\n",
            "|   Vissel Kobe (JPN)|              33.5|\n",
            "|FC Shakhtar Donet...|              33.5|\n",
            "|Ipswich Town FC (...|              33.5|\n",
            "|    Bologna FC (ITA)|              33.5|\n",
            "|     Getafe CF (ESP)|              33.5|\n",
            "|Sangju Sangmu FC ...|              33.5|\n",
            "| Persepolis FC (IRN)|              33.5|\n",
            "|      FC Porto (POR)|              33.2|\n",
            "|Real Madrid CF (ESP)|              33.2|\n",
            "|     AS Monaco (FRA)|            33.125|\n",
            "|Leeds United FC (...|              33.0|\n",
            "|  Plaza Amador (PAN)|              33.0|\n",
            "|FC Spartak Moscow...|              33.0|\n",
            "|  Levski Sofia (BUL)|              33.0|\n",
            "|San Jose Earthqua...|              33.0|\n",
            "| Club Africain (TUN)|              33.0|\n",
            "|Vitoria Guimaraes...|              33.0|\n",
            "|   Hannover 96 (GER)|              33.0|\n",
            "|San Francisco FC ...|              33.0|\n",
            "|Crystal Palace FC...|              33.0|\n",
            "|DAC Dunajska Stre...|              33.0|\n",
            "|    Urawa Reds (JPN)|              33.0|\n",
            "|    Arsenal FC (ENG)|              33.0|\n",
            "|     Bursaspor (TUR)|              33.0|\n",
            "|CA Monarcas Morel...|              33.0|\n",
            "| Al Ittifaq FC (KSA)|              33.0|\n",
            "|    Watford FC (ENG)|              33.0|\n",
            "|      FC Basel (SUI)|              33.0|\n",
            "|      SS Lazio (ITA)|              33.0|\n",
            "|Asan Mugunghwa FC...|              33.0|\n",
            "|    Padideh FC (IRN)|              33.0|\n",
            "| VfB Stuttgart (GER)|              33.0|\n",
            "|  Club América (MEX)|              33.0|\n",
            "|West Ham United F...|              33.0|\n",
            "|Manchester City F...|           32.9375|\n",
            "|FC Bayern München...| 32.90909090909091|\n",
            "|Borussia Dortmund...|32.857142857142854|\n",
            "|Eintracht Frankfu...|32.833333333333336|\n",
            "|     Torino FC (ITA)|             32.75|\n",
            "|   Sporting CP (POR)|32.714285714285715|\n",
            "|CD Tiburones Rojo...|32.666666666666664|\n",
            "|    Everton FC (ENG)|32.666666666666664|\n",
            "|  Hamburger SV (GER)|32.666666666666664|\n",
            "|Atletico Madrid (...|32.666666666666664|\n",
            "|    Burnley FC (ENG)|              32.5|\n",
            "|New York City FC ...|              32.5|\n",
            "|Southampton FC (ENG)|              32.5|\n",
            "|TSG 1899 Hoffenhe...|              32.5|\n",
            "|    FC Crotone (ITA)|              32.5|\n",
            "|Tottenham Hotspur...|              32.5|\n",
            "|Fortuna Düsseldor...|              32.5|\n",
            "|    Hertha BSC (GER)|              32.5|\n",
            "|FC Akhmat Grozny ...|              32.5|\n",
            "|Manchester United...| 32.36363636363637|\n",
            "|Deportivo La Coru...|              32.2|\n",
            "|  Liverpool FC (ENG)|32.142857142857146|\n",
            "|  Sao Paulo FC (BRA)|              32.0|\n",
            "|      Daegu FC (KOR)|              32.0|\n",
            "|    Reading FC (ENG)|              32.0|\n",
            "|     FC Luzern (SUI)|              32.0|\n",
            "|    HNK Rijeka (CRO)|              32.0|\n",
            "|Wigan Athletic FC...|              32.0|\n",
            "|FC Lausanne-Sport...|              32.0|\n",
            "|Deportivo Alavés ...|              32.0|\n",
            "|      FC Tokyo (JPN)|              32.0|\n",
            "|Grasshopper Club ...|              32.0|\n",
            "|CA Independiente ...|              32.0|\n",
            "|Deportivo Municip...|              32.0|\n",
            "|Incheon United FC...|              32.0|\n",
            "|KV Waasland-Bever...|              32.0|\n",
            "|    Al Sadd SC (QAT)|              32.0|\n",
            "|     Puebla FC (MEX)|              32.0|\n",
            "| Stoke City FC (ENG)|              31.8|\n",
            "|Paris Saint-Germa...|             31.75|\n",
            "|RSC Anderlecht (BEL)|             31.75|\n",
            "|       Zamalek (EGY)|31.666666666666668|\n",
            "|      AFC Ajax (NED)|              31.5|\n",
            "|     Dijon FCO (FRA)|              31.5|\n",
            "|Portland Timbers ...|              31.5|\n",
            "|      ES Tunis (TUN)|              31.5|\n",
            "|    Lobos BUAP (MEX)|              31.5|\n",
            "|GNK Dinamo Zagreb...|              31.5|\n",
            "|     Genoa CFC (ITA)|              31.5|\n",
            "|Atalanta Bergamo ...|              31.5|\n",
            "|Brighton & Hove A...|              31.5|\n",
            "|Olympique Lyon (FRA)|              31.5|\n",
            "|Cardiff City FC (...|              31.5|\n",
            "|  Kasimpasa SK (TUR)|31.333333333333332|\n",
            "|FC Girondins Bord...|31.333333333333332|\n",
            "|Stade Rennais FC ...|             31.25|\n",
            "|   Trabzonspor (TUR)|              31.0|\n",
            "|   CS Maritimo (POR)|              31.0|\n",
            "|Queens Park Range...|              31.0|\n",
            "|    Brondby IF (DEN)|              31.0|\n",
            "|  SE Palmeiras (BRA)|              31.0|\n",
            "|Minnesota United ...|              31.0|\n",
            "|      Malmö FF (SWE)|              31.0|\n",
            "|    RS Berkane (MAR)|              31.0|\n",
            "| Real Sociedad (ESP)|              31.0|\n",
            "|Kawasaki Frontale...|              31.0|\n",
            "|PFC Ludogorets Ra...|              31.0|\n",
            "|Bristol City FC (...|              31.0|\n",
            "|WS Wanderers FC (...|              31.0|\n",
            "|Newcastle United ...|              31.0|\n",
            "| Gornik Zabrze (POL)|              31.0|\n",
            "| Al Gharafa SC (QAT)|              31.0|\n",
            "|     Amiens SC (FRA)|              31.0|\n",
            "|    Celta Vigo (ESP)|30.666666666666668|\n",
            "|  Al Shabab FC (KSA)|30.666666666666668|\n",
            "|FK Crvena Zvezda ...|              30.5|\n",
            "|ACF Fiorentina (ITA)|              30.5|\n",
            "|    SL Benfica (POR)|              30.4|\n",
            "|VfL Borussia Mönc...|30.285714285714285|\n",
            "|  UC Sampdoria (ITA)|              30.2|\n",
            "|   Valencia CF (ESP)|              30.0|\n",
            "|  Atromitos FC (GRE)|              30.0|\n",
            "|    RB Leipzig (GER)|              30.0|\n",
            "|Kashima Antlers (...|              30.0|\n",
            "|    Aalborg BK (DEN)|              30.0|\n",
            "| Sagan Tosu FC (JPN)|              30.0|\n",
            "|Yokohama F-Marino...|              30.0|\n",
            "|   Cruzeiro EC (BRA)|              30.0|\n",
            "|IFK Östersund FK ...|              30.0|\n",
            "|  Hibernian FC (SCO)|              30.0|\n",
            "|SV Werder Bremen ...|              30.0|\n",
            "|    CS Sfaxien (TUN)|              30.0|\n",
            "| Al-Ittihad FC (KSA)|              30.0|\n",
            "|Cafetaleros de Ta...|              30.0|\n",
            "|    AZ Alkmaar (NED)|              30.0|\n",
            "|CA Boca Juniors (...|             29.75|\n",
            "|      KAA Gent (BEL)|29.666666666666668|\n",
            "| FK Amkar Perm (RUS)|              29.5|\n",
            "|Athletic Bilbao (...|              29.0|\n",
            "|    Levante UD (ESP)|              29.0|\n",
            "|LB Chateauroux (FRA)|              29.0|\n",
            "|    Pumas UNAM (MEX)|              29.0|\n",
            "| PSV Eindhoven (NED)|              29.0|\n",
            "|Saipa Alborz FC (...|              29.0|\n",
            "|  Alianza Lima (PER)|              29.0|\n",
            "|   Roskilde BK (DEN)|              29.0|\n",
            "|     ES Troyes (FRA)|              29.0|\n",
            "|FC Nordsjaelland ...|              29.0|\n",
            "|Montpellier HSC (...|              29.0|\n",
            "|    FBC Melgar (PER)|              29.0|\n",
            "|Kashiwa Reysol (JPN)|              29.0|\n",
            "|     Fulham FC (ENG)|              29.0|\n",
            "|New York Red Bull...|              28.5|\n",
            "| FC Schalke 04 (GER)|              28.0|\n",
            "|Maccabi Tel-Aviv ...|              28.0|\n",
            "|    IRT Tanger (MAR)|              28.0|\n",
            "| UD Las Palmas (ESP)|              28.0|\n",
            "|Bayer 04 Leverkus...|              28.0|\n",
            "|  Valerenga IF (NOR)|              28.0|\n",
            "|  ADO Den Haag (NED)|              28.0|\n",
            "|FC Red Bull Salzb...|              27.5|\n",
            "|       SM Caen (FRA)|              27.0|\n",
            "|      OGC Nice (FRA)|              27.0|\n",
            "|     FC Nantes (FRA)|              27.0|\n",
            "|     Malaga CF (ESP)|              27.0|\n",
            "|Hellas Verona FC ...|              26.0|\n",
            "|IFK Norrkoping FK...|              26.0|\n",
            "|     Lille OSC (FRA)|              26.0|\n",
            "|     KAS Eupen (BEL)|              25.0|\n",
            "|Melbourne City FC...|              25.0|\n",
            "+--------------------+------------------+\n",
            "\n"
          ]
        }
      ]
    },
    {
      "cell_type": "markdown",
      "source": [
        "# iv. Qual clube tem o jogador com IMC (Índice de massa corporal) mais alto da competição?"
      ],
      "metadata": {
        "id": "5NBwUQueYPX2"
      }
    },
    {
      "cell_type": "code",
      "source": [
        "# Calcula o Índice de Massa Corporal (IMC) para cada jogador e adiciona como uma nova coluna 'IMC' no DataFrame df\n",
        "df = df.withColumn('IMC', expr('Weight / (Height / 100 * Height / 100)'))\n",
        "\n",
        "# Encontra o jogador com o maior IMC ao ordenar o DataFrame df de forma decrescente pela coluna 'IMC' e selecionar o primeiro registro\n",
        "max_imc_jogador = df.orderBy(col('IMC').desc()).select('Club', 'FIFA Popular Name', 'IMC').first()\n",
        "\n",
        "# Verifica se foi encontrado algum jogador com IMC\n",
        "if max_imc_jogador:\n",
        "    # Extrai informações do jogador com maior IMC\n",
        "    time = max_imc_jogador['Club']\n",
        "    jogador = max_imc_jogador['FIFA Popular Name']\n",
        "    max_IMC = max_imc_jogador['IMC']\n",
        "    # Imprime mensagem indicando o jogador com o maior IMC encontrado, formatando o IMC com duas casas decimais\n",
        "    print(f\"O jogador com o maior IMC é '{jogador}' do time '{time}' com IMC de {max_IMC:.2f}.\")\n",
        "else:\n",
        "    # Caso nenhum jogador com IMC seja encontrado, imprime mensagem indicando que não foi possível determinar\n",
        "    print(\"Não foi possível determinar o jogador com maior IMC.\")\n"
      ],
      "metadata": {
        "colab": {
          "base_uri": "https://localhost:8080/"
        },
        "id": "5i5MW8aBS-mB",
        "outputId": "6c70f331-9bb1-4142-d7f0-d00eb1476812"
      },
      "execution_count": 8,
      "outputs": [
        {
          "output_type": "stream",
          "name": "stdout",
          "text": [
            "O jogador com o maior IMC é 'ABDULLAH ALMUAIOUF' do time 'Al Hilal SFC (KSA)' com IMC de 30.93.\n"
          ]
        }
      ]
    },
    {
      "cell_type": "markdown",
      "source": [
        "# v. Qual clube tem o jogador com IMC (Índice de massa corporal) mais baixo da competição?"
      ],
      "metadata": {
        "id": "uBvkKMrYYVRk"
      }
    },
    {
      "cell_type": "code",
      "source": [
        "# Encontra o jogador com o menor IMC ao ordenar o DataFrame df de forma crescente pela coluna 'IMC' e selecionar o primeiro registro\n",
        "min_imc_jogador = df.orderBy(col('IMC')).select('Club', 'FIFA Popular Name', 'IMC').first()\n",
        "\n",
        "# Verifica se foi encontrado algum jogador com IMC\n",
        "if min_imc_jogador:\n",
        "    # Extrai informações do jogador com menor IMC\n",
        "    time = min_imc_jogador['Club']\n",
        "    jogador = min_imc_jogador['FIFA Popular Name']\n",
        "    min_IMC = min_imc_jogador['IMC']\n",
        "    # Imprime mensagem indicando o jogador com o menor IMC encontrado, formatando o IMC com duas casas decimais\n",
        "    print(f\"O jogador com o menor IMC é '{jogador}' do time '{time}' com IMC de {min_IMC:.2f}.\")\n",
        "else:\n",
        "    # Caso nenhum jogador com IMC seja encontrado, imprime mensagem indicando que não foi possível determinar\n",
        "    print(\"Não foi possível determinar o jogador com menor IMC.\")"
      ],
      "metadata": {
        "colab": {
          "base_uri": "https://localhost:8080/"
        },
        "id": "0PkQBXWjYYYP",
        "outputId": "16585fa9-5847-4ea5-b811-5bd873c7eeac"
      },
      "execution_count": 9,
      "outputs": [
        {
          "output_type": "stream",
          "name": "stdout",
          "text": [
            "O jogador com o menor IMC é 'BRUNO FERNANDES' do time 'Sporting CP (POR)' com IMC de 19.11.\n"
          ]
        }
      ]
    },
    {
      "cell_type": "markdown",
      "source": [
        "# vi. Qual é o jogador mais velho da competição?"
      ],
      "metadata": {
        "id": "phlE0uhtaPO2"
      }
    },
    {
      "cell_type": "code",
      "source": [
        "# Encontra o jogador mais velho ao ordenar o DataFrame df de forma decrescente pela coluna 'idade_atual' e selecionar o primeiro registro\n",
        "jogador_mais_velho = df.orderBy(col('idade_atual').desc()).select('FIFA Popular Name', 'idade_atual').first()\n",
        "\n",
        "# Verifica se foi encontrado algum jogador mais velho\n",
        "if jogador_mais_velho:\n",
        "    # Extrai informações do jogador mais velho\n",
        "    jogador = jogador_mais_velho['FIFA Popular Name']\n",
        "    idade = jogador_mais_velho['idade_atual']\n",
        "    # Imprime mensagem indicando o jogador mais velho encontrado\n",
        "    print(f\"O jogador mais velho da competição é '{jogador}' com {idade} anos de idade.\")\n",
        "else:\n",
        "    # Caso nenhum jogador mais velho seja encontrado, imprime mensagem indicando que não foi possível determinar\n",
        "    print(\"Não foi possível determinar o jogador mais velho.\")"
      ],
      "metadata": {
        "colab": {
          "base_uri": "https://localhost:8080/"
        },
        "id": "tjtt2f_JY2xz",
        "outputId": "c488f6dd-d127-466f-dba9-755a4e3b1d14"
      },
      "execution_count": 10,
      "outputs": [
        {
          "output_type": "stream",
          "name": "stdout",
          "text": [
            "O jogador mais velho da competição é 'ESSAM EL HADARY' com 51 anos de idade.\n"
          ]
        }
      ]
    },
    {
      "cell_type": "markdown",
      "source": [
        "# vii. Qual é o jogador mais novo da competição?"
      ],
      "metadata": {
        "id": "wbNd4_CCajXo"
      }
    },
    {
      "cell_type": "code",
      "source": [
        "# Encontra o jogador mais novo ao ordenar o DataFrame df de forma crescente pela coluna 'idade_atual' e selecionar o primeiro registro\n",
        "jogador_mais_novo = df.orderBy(col('idade_atual')).select('FIFA Popular Name', 'idade_atual').first()\n",
        "\n",
        "# Verifica se foi encontrado algum jogador mais novo\n",
        "if jogador_mais_novo:\n",
        "    # Extrai informações do jogador mais novo\n",
        "    jogador = jogador_mais_novo['FIFA Popular Name']\n",
        "    idade = jogador_mais_novo['idade_atual']\n",
        "    # Imprime mensagem indicando o jogador mais novo encontrado\n",
        "    print(f\"O jogador mais novo da competição é '{jogador}' com {idade} anos de idade.\")\n",
        "else:\n",
        "    # Caso nenhum jogador mais novo seja encontrado, imprime mensagem indicando que não foi possível determinar\n",
        "    print(\"Não foi possível determinar o jogador mais novo.\")"
      ],
      "metadata": {
        "colab": {
          "base_uri": "https://localhost:8080/"
        },
        "id": "yACZlC_Cabem",
        "outputId": "d33cc3e5-3c9d-4b35-cf91-63bae72499ac"
      },
      "execution_count": 11,
      "outputs": [
        {
          "output_type": "stream",
          "name": "stdout",
          "text": [
            "O jogador mais novo da competição é 'ARZANI Daniel' com 25 anos de idade.\n"
          ]
        }
      ]
    },
    {
      "cell_type": "markdown",
      "source": [
        "# viii. Qual é o clube com mais jogadores na competição?"
      ],
      "metadata": {
        "id": "MJYqZmjdbyYL"
      }
    },
    {
      "cell_type": "code",
      "source": [
        "# Conta o número de jogadores por clube no DataFrame df\n",
        "jogadores_por_club = df.groupBy('Club').count()\n",
        "\n",
        "# Encontra o clube com mais jogadores ao ordenar o DataFrame jogadores_por_club de forma decrescente pelo número de jogadores ('count') e selecionar o primeiro registro\n",
        "club_com_mais_jogadores = jogadores_por_club.orderBy(col('count').desc()).first()\n",
        "\n",
        "# Verifica se foi encontrado algum clube com mais jogadores\n",
        "if club_com_mais_jogadores:\n",
        "    # Extrai informações do clube com mais jogadores\n",
        "    clube = club_com_mais_jogadores['Club']\n",
        "    num_jogadores = club_com_mais_jogadores['count']\n",
        "    # Imprime mensagem indicando o clube com mais jogadores encontrado\n",
        "    print(f\"O clube com mais jogadores na competição é '{clube}' com {num_jogadores} jogadores.\")\n",
        "else:\n",
        "    # Caso nenhum clube com mais jogadores seja encontrado, imprime mensagem indicando que não foi possível determinar\n",
        "    print(\"Não foi possível determinar o clube com mais jogadores.\")"
      ],
      "metadata": {
        "colab": {
          "base_uri": "https://localhost:8080/"
        },
        "id": "OsgCXnXra6LZ",
        "outputId": "61816c1d-665e-4cb8-e136-8a768643dac0"
      },
      "execution_count": 12,
      "outputs": [
        {
          "output_type": "stream",
          "name": "stdout",
          "text": [
            "O clube com mais jogadores na competição é 'Manchester City FC (ENG)' com 16 jogadores.\n"
          ]
        }
      ]
    },
    {
      "cell_type": "markdown",
      "source": [
        "# ix. Monte um time com os jogadores mais altos da competição, respeitando a quantidade de jogadores por posição (1 goleiro, 4 defensores, 4 meio-campistas e 2 atacantes)."
      ],
      "metadata": {
        "id": "eTUBEJy5hIps"
      }
    },
    {
      "cell_type": "code",
      "source": [
        "# Ordena o DataFrame df de forma decrescente pela coluna 'Height' (altura dos jogadores)\n",
        "df = df.orderBy(col('Height').desc())\n",
        "\n",
        "# Filtra e seleciona o goleiro com a maior altura, limitando a 1 registro\n",
        "goleiro = df.filter(col('Position') == 'GK').limit(1)\n",
        "\n",
        "# Filtra e seleciona os 4 defensores com as maiores alturas\n",
        "defensores = df.filter(col('Position') == 'DF').limit(4)\n",
        "\n",
        "# Filtra e seleciona os 4 meio-campistas com as maiores alturas\n",
        "meio_campistas = df.filter(col('Position') == 'MF').limit(4)\n",
        "\n",
        "# Filtra e seleciona os 2 atacantes com as maiores alturas\n",
        "atacantes = df.filter(col('Position') == 'FW').limit(2)\n",
        "\n",
        "# Une os DataFrames dos diferentes tipos de jogadores (goleiro, defensores, meio-campistas e atacantes) em um único DataFrame 'team'\n",
        "team = goleiro.union(defensores).union(meio_campistas).union(atacantes)\n",
        "\n",
        "# Imprime uma mensagem indicando o time formado com os jogadores mais altos da competição\n",
        "print(\"Time formado com os jogadores mais altos da competição:\")\n",
        "# Exibe o DataFrame 'team' sem truncamento para mostrar todas as colunas\n",
        "team.show(truncate=False)"
      ],
      "metadata": {
        "colab": {
          "base_uri": "https://localhost:8080/"
        },
        "id": "QbM1C777cREB",
        "outputId": "f4b0cfc5-d102-4882-a761-b8e84ea563ff"
      },
      "execution_count": 13,
      "outputs": [
        {
          "output_type": "stream",
          "name": "stdout",
          "text": [
            "Time formado com os jogadores mais altos da competição:\n",
            "+--------------+------+--------+------------------+----------+-----------+----------------------------------+------+------+-----------+------------------+\n",
            "|Team          |Number|Position|FIFA Popular Name |Birth Date|Shirt Name |Club                              |Height|Weight|idade_atual|IMC               |\n",
            "+--------------+------+--------+------------------+----------+-----------+----------------------------------+------+------+-----------+------------------+\n",
            "|Croatia       |12    |GK      |KALINIC Lovre     |1990-04-03|L. KALINIĆ |KAA Gent (BEL)                    |201   |96    |34         |23.761788074552616|\n",
            "|Denmark       |3     |DF      |VESTERGAARD Jannik|1992-08-03|VESTERGAARD|VfL Borussia Mönchengladbach (GER)|200   |98    |31         |24.5              |\n",
            "|Argentina     |6     |DF      |FAZIO Federico    |1987-03-17|FAZIO      |AS Roma (ITA)                     |199   |85    |37         |21.464104441807027|\n",
            "|Costa Rica    |19    |DF      |WASTON Kendall    |1988-01-01|K. WASTON  |Vancouver Whitecaps FC (CAN)      |196   |87    |36         |22.646813827571847|\n",
            "|Uruguay       |19    |DF      |COATES Sebastian  |1990-10-07|COATES     |Sporting CP (POR)                 |196   |89    |33         |23.167430237401085|\n",
            "|France        |15    |MF      |NZONZI Steven     |1988-12-15|NZONZI     |Sevilla FC (ESP)                  |197   |87    |35         |22.41748048133165 |\n",
            "|Senegal       |6     |MF      |SANE Salif        |1990-08-25|S. SANE    |Hannover 96 (GER)                 |196   |84    |33         |21.86588921282799 |\n",
            "|Belgium       |8     |MF      |FELLAINI Marouane |1987-11-22|FELLAINI   |Manchester United FC (ENG)        |194   |85    |36         |22.584759273036454|\n",
            "|Serbia        |21    |MF      |MATIC Nemanja     |1988-08-01|MATIĆ      |Manchester United FC (ENG)        |194   |86    |35         |22.850462323307468|\n",
            "|Nigeria       |13    |FW      |NWANKWO Simeon    |1992-05-07|NWANKWO    |FC Crotone (ITA)                  |197   |89    |32         |22.93282486021284 |\n",
            "|Korea Republic|9     |FW      |KIM Shinwook      |1988-04-14|S W KIM    |Jeonbuk Hyundai (KOR)             |197   |97    |36         |24.99420237573759 |\n",
            "+--------------+------+--------+------------------+----------+-----------+----------------------------------+------+------+-----------+------------------+\n",
            "\n"
          ]
        }
      ]
    },
    {
      "cell_type": "markdown",
      "source": [
        "# x. Monte um time com os jogadores mais pesados da competição, respeitando a quantidade de jogadores por posição (1 goleiro, 4 defensores, 4 meio-campistas e 2 atacantes)."
      ],
      "metadata": {
        "id": "7lTK03AniDyQ"
      }
    },
    {
      "cell_type": "code",
      "source": [
        "# Ordena o DataFrame df de forma decrescente pela coluna 'Weight' (peso dos jogadores)\n",
        "df = df.orderBy(col('Weight').desc())\n",
        "\n",
        "# Filtra e seleciona o goleiro mais pesado, limitando a 1 registro\n",
        "goleiro = df.filter(col('Position') == 'GK').limit(1)\n",
        "\n",
        "# Filtra e seleciona os 4 defensores mais pesados\n",
        "defensores = df.filter(col('Position') == 'DF').limit(4)\n",
        "\n",
        "# Filtra e seleciona os 4 meio-campistas mais pesados\n",
        "meio_campistas = df.filter(col('Position') == 'MF').limit(4)\n",
        "\n",
        "# Filtra e seleciona os 2 atacantes mais pesados\n",
        "atacantes = df.filter(col('Position') == 'FW').limit(2)\n",
        "\n",
        "# Une os DataFrames dos diferentes tipos de jogadores (goleiro, defensores, meio-campistas e atacantes) em um único DataFrame 'team'\n",
        "team = goleiro.union(defensores).union(meio_campistas).union(atacantes)\n",
        "\n",
        "# Imprime uma mensagem indicando o time formado com os jogadores mais pesados da competição\n",
        "print(\"Time formado com os jogadores mais pesados da competição:\")\n",
        "# Exibe o DataFrame 'team' sem truncamento para mostrar todas as colunas\n",
        "team.show(truncate=False)"
      ],
      "metadata": {
        "colab": {
          "base_uri": "https://localhost:8080/"
        },
        "id": "DMjPkWFshWpD",
        "outputId": "c7723287-07ee-40f7-c79f-43975aebb424"
      },
      "execution_count": 14,
      "outputs": [
        {
          "output_type": "stream",
          "name": "stdout",
          "text": [
            "Time formado com os jogadores mais pesados da competição:\n",
            "+--------------+------+--------+------------------+----------+-----------+----------------------------------+------+------+-----------+------------------+\n",
            "|Team          |Number|Position|FIFA Popular Name |Birth Date|Shirt Name |Club                              |Height|Weight|idade_atual|IMC               |\n",
            "+--------------+------+--------+------------------+----------+-----------+----------------------------------+------+------+-----------+------------------+\n",
            "|Saudi Arabia  |1     |GK      |ABDULLAH ALMUAIOUF|1987-01-23|ABDULLAH   |Al Hilal SFC (KSA)                |178   |98    |37         |30.930438076000502|\n",
            "|Panama        |5     |DF      |TORRES Roman      |1986-03-20|R. TORRES  |Seattle Sounders FC (USA)         |188   |99    |38         |28.010411951109102|\n",
            "|Denmark       |3     |DF      |VESTERGAARD Jannik|1992-08-03|VESTERGAARD|VfL Borussia Mönchengladbach (GER)|200   |98    |31         |24.5              |\n",
            "|England       |6     |DF      |MAGUIRE Harry     |1993-03-05|MAGUIRE    |Leicester City FC (ENG)           |193   |98    |31         |26.309431125667803|\n",
            "|Colombia      |13    |DF      |MINA Yerry        |1994-09-23|Y. MINA    |FC Barcelona (ESP)                |194   |95    |29         |25.241789775746625|\n",
            "|England       |4     |MF      |DIER Eric         |1994-01-15|DIER       |Tottenham Hotspur FC (ENG)        |188   |90    |30         |25.46401086464464 |\n",
            "|Nigeria       |19    |MF      |OGU John          |1988-04-20|OGU        |Hapoel Be'er Sheva FC (ISR)       |191   |90    |36         |24.67037636029714 |\n",
            "|Senegal       |11    |MF      |NDOYE Cheikh      |1986-03-29|CH. NDOYE  |Birmingham City FC (ENG)          |192   |90    |38         |24.4140625        |\n",
            "|Australia     |23    |MF      |ROGIC Tom         |1992-12-16|ROGIC      |Celtic FC (SCO)                   |189   |88    |31         |24.635368550712467|\n",
            "|England       |9     |FW      |KANE Harry        |1993-07-28|KANE       |Tottenham Hotspur FC (ENG)        |188   |98    |30         |27.727478497057493|\n",
            "|Korea Republic|9     |FW      |KIM Shinwook      |1988-04-14|S W KIM    |Jeonbuk Hyundai (KOR)             |197   |97    |36         |24.99420237573759 |\n",
            "+--------------+------+--------+------------------+----------+-----------+----------------------------------+------+------+-----------+------------------+\n",
            "\n"
          ]
        }
      ]
    }
  ]
}